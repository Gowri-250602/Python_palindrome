{
 "cells": [
  {
   "cell_type": "code",
   "execution_count": 1,
   "id": "d5645f29-9732-41be-a508-4e869224389a",
   "metadata": {},
   "outputs": [
    {
     "data": {
      "text/plain": [
       "'Write a function to check if a given string is a palindrome (reads the same forwards and backwards).\\nExample:\\nInput: \"madam\"\\nOutput: True\\n'"
      ]
     },
     "execution_count": 1,
     "metadata": {},
     "output_type": "execute_result"
    }
   ],
   "source": [
    "\"\"\"Write a function to check if a given string is a palindrome (reads the same forwards and backwards).\n",
    "Example:\n",
    "Input: \"madam\"\n",
    "Output: True\n",
    "\"\"\""
   ]
  },
  {
   "cell_type": "code",
   "execution_count": 12,
   "id": "4dabb724-eb89-4ceb-9980-44886adb0b50",
   "metadata": {},
   "outputs": [
    {
     "name": "stdin",
     "output_type": "stream",
     "text": [
      "enter a string: amma\n"
     ]
    },
    {
     "name": "stdout",
     "output_type": "stream",
     "text": [
      "The given string: amma\n",
      "The reveresed string: amma\n",
      "It is palindrome\n"
     ]
    }
   ],
   "source": [
    "s=input(\"enter a string:\")\n",
    "print(\"The given string:\",s)\n",
    "s1=s[::-1]\n",
    "print(\"The reveresed string:\",s1)\n",
    "if s==s1:\n",
    "    print(\"It is palindrome\")\n",
    "else:\n",
    "    print(\"It is not a palindrome\")\n",
    "    "
   ]
  },
  {
   "cell_type": "code",
   "execution_count": null,
   "id": "1adae888-e6a1-4c41-be29-4e1721094fe3",
   "metadata": {},
   "outputs": [],
   "source": [
    "\n",
    "    \n",
    "    "
   ]
  }
 ],
 "metadata": {
  "kernelspec": {
   "display_name": "Python 3 (ipykernel)",
   "language": "python",
   "name": "python3"
  },
  "language_info": {
   "codemirror_mode": {
    "name": "ipython",
    "version": 3
   },
   "file_extension": ".py",
   "mimetype": "text/x-python",
   "name": "python",
   "nbconvert_exporter": "python",
   "pygments_lexer": "ipython3",
   "version": "3.12.7"
  }
 },
 "nbformat": 4,
 "nbformat_minor": 5
}
